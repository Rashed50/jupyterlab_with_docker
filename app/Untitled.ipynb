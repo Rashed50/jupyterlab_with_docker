{
 "cells": [
  {
   "cell_type": "code",
   "execution_count": 2,
   "id": "35b80e3a-ca20-4e1f-b3e8-fa27f33e2f8d",
   "metadata": {},
   "outputs": [
    {
     "name": "stdout",
     "output_type": "stream",
     "text": [
      "   Tenure  WarehouseToHome  NumberOfDeviceRegistered    PreferedOrderCat  \\\n",
      "0    15.0             29.0                         4  Laptop & Accessory   \n",
      "1     7.0             25.0                         4              Mobile   \n",
      "2    27.0             13.0                         3  Laptop & Accessory   \n",
      "3    20.0             25.0                         4             Fashion   \n",
      "4    30.0             15.0                         4              Others   \n",
      "\n",
      "   SatisfactionScore MaritalStatus  NumberOfAddress  Complain  \\\n",
      "0                  3        Single                2         0   \n",
      "1                  1       Married                2         0   \n",
      "2                  1       Married                5         0   \n",
      "3                  3      Divorced                7         0   \n",
      "4                  4        Single                8         0   \n",
      "\n",
      "   DaySinceLastOrder  CashbackAmount  Churn  \n",
      "0                7.0          143.32      0  \n",
      "1                7.0          129.29      0  \n",
      "2                7.0          168.54      0  \n",
      "3                NaN          230.27      0  \n",
      "4                8.0          322.17      0  \n"
     ]
    }
   ],
   "source": [
    "# Correct function name: read_csv, not read.csv\n",
    "import pandas as pd\n",
    "\n",
    "ccd = pd.read_csv('data_ecommerce_customer_churn.csv')\n",
    "ccd.to_csv('data_source/output.csv', index=False)\n",
    "\n",
    "print(ccd.head(5))"
   ]
  },
  {
   "cell_type": "code",
   "execution_count": null,
   "id": "340f455b-f148-4610-8bac-8b9eb0ada9a9",
   "metadata": {},
   "outputs": [],
   "source": []
  }
 ],
 "metadata": {
  "kernelspec": {
   "display_name": "Python 3 (ipykernel)",
   "language": "python",
   "name": "python3"
  },
  "language_info": {
   "codemirror_mode": {
    "name": "ipython",
    "version": 3
   },
   "file_extension": ".py",
   "mimetype": "text/x-python",
   "name": "python",
   "nbconvert_exporter": "python",
   "pygments_lexer": "ipython3",
   "version": "3.10.17"
  }
 },
 "nbformat": 4,
 "nbformat_minor": 5
}
